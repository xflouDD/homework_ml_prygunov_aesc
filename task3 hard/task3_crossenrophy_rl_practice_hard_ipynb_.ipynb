{
  "cells": [
    {
      "cell_type": "code",
      "execution_count": 18,
      "metadata": {
        "id": "1FN76YqmboEU",
        "colab": {
          "base_uri": "https://localhost:8080/"
        },
        "outputId": "392969a8-2be2-458f-a075-3aaac68dfeff"
      },
      "outputs": [
        {
          "output_type": "stream",
          "name": "stdout",
          "text": [
            "Requirement already satisfied: swig in /usr/local/lib/python3.10/dist-packages (4.2.1)\n",
            "Requirement already satisfied: ufal.pybox2d in /usr/local/lib/python3.10/dist-packages (2.3.10.3)\n",
            "Requirement already satisfied: gym[box2d] in /usr/local/lib/python3.10/dist-packages (0.25.2)\n",
            "Requirement already satisfied: numpy>=1.18.0 in /usr/local/lib/python3.10/dist-packages (from gym[box2d]) (1.25.2)\n",
            "Requirement already satisfied: cloudpickle>=1.2.0 in /usr/local/lib/python3.10/dist-packages (from gym[box2d]) (2.2.1)\n",
            "Requirement already satisfied: gym-notices>=0.0.4 in /usr/local/lib/python3.10/dist-packages (from gym[box2d]) (0.0.8)\n",
            "Requirement already satisfied: box2d-py==2.3.5 in /usr/local/lib/python3.10/dist-packages (from gym[box2d]) (2.3.5)\n",
            "Requirement already satisfied: pygame==2.1.0 in /usr/local/lib/python3.10/dist-packages (from gym[box2d]) (2.1.0)\n",
            "Requirement already satisfied: swig==4.* in /usr/local/lib/python3.10/dist-packages (from gym[box2d]) (4.2.1)\n"
          ]
        }
      ],
      "source": [
        "!pip install swig\n",
        "!pip install ufal.pybox2d\n",
        "!pip install gym[box2d]"
      ]
    },
    {
      "cell_type": "code",
      "execution_count": 19,
      "metadata": {
        "colab": {
          "base_uri": "https://localhost:8080/"
        },
        "id": "zQluqhNBVTQs",
        "outputId": "bf8dbb18-9f29-4009-c81a-549ba4e99bca"
      },
      "outputs": [
        {
          "output_type": "stream",
          "name": "stderr",
          "text": [
            "/usr/local/lib/python3.10/dist-packages/gym/core.py:317: DeprecationWarning: \u001b[33mWARN: Initializing wrapper in old step API which returns one bool instead of two. It is recommended to set `new_step_api=True` to use new step API. This will be the default behaviour in future.\u001b[0m\n",
            "  deprecation(\n",
            "/usr/local/lib/python3.10/dist-packages/gym/wrappers/step_api_compatibility.py:39: DeprecationWarning: \u001b[33mWARN: Initializing environment in old step API which returns one bool instead of two. It is recommended to set `new_step_api=True` to use new step API. This will be the default behaviour in future.\u001b[0m\n",
            "  deprecation(\n"
          ]
        }
      ],
      "source": [
        "import gym\n",
        "import numpy as np, pandas as pd\n",
        "import matplotlib.pyplot as plt\n",
        "%matplotlib inline\n",
        "env = gym.make(\"LunarLander-v2\").env\n",
        "env.reset()\n",
        "n_actions = env.action_space.n"
      ]
    },
    {
      "cell_type": "markdown",
      "metadata": {
        "id": "VmtLg--bVTQm"
      },
      "source": [
        "# Homework part II\n",
        "\n",
        "### Deep crossentropy method\n",
        "\n",
        "By this moment you should have got enough score on [CartPole-v0](https://gym.openai.com/envs/CartPole-v0) to consider it solved (see the link). It's time to upload the result and get to something harder.\n",
        "\n",
        "* if you have any trouble with CartPole-v0 and feel stuck, feel free to ask us or your peers for help.\n",
        "\n",
        "### Tasks\n",
        "\n",
        "* __2.1__ __(5 pts)__ Pick one of environments: MountainCar-v0 or LunarLander-v2.\n",
        "  * For MountainCar, get average reward of __at least -150__\n",
        "  * For LunarLander, get average reward of __at least +50__\n",
        "\n",
        "See the tips section below, it's kinda important.\n",
        "__Note:__ If your agent is below the target score, you'll still get most of the points depending on the result, so don't be afraid to submit it.\n",
        "  \n",
        "  \n",
        "* __2.2__ __(bonus: 5 pts each)__ Devise a way to speed up training at least 2x against the default version\n",
        "  * Obvious improvement: use [joblib](https://www.google.com/search?client=ubuntu&channel=fs&q=joblib&ie=utf-8&oe=utf-8)\n",
        "  * Try re-using samples from 3-5 last iterations when computing threshold and training\n",
        "  * Experiment with amount of training iterations and learning rate of the neural network (see params), show graphs for different params\n",
        "  \n",
        "  \n",
        "### Tips\n",
        "* Gym page: [mountaincar](https://gym.openai.com/envs/MountainCar-v0), [lunarlander](https://gym.openai.com/envs/LunarLander-v2)\n",
        "* Sessions for MountainCar may last for 10k+ ticks. Make sure ```t_max``` param is at least 10k.\n",
        " * Also it may be a good idea to cut rewards via \">\" and not \">=\". If 90% of your sessions get reward of -10k and 20% are better, than if you use percentile 20% as threshold, R >= threshold __fails cut off bad sessions__ whule R > threshold works alright.\n",
        "* _issue with gym_: Some versions of gym limit game time by 200 ticks. This will prevent cem training in most cases. Make sure your agent is able to play for the specified __t_max__, and if it isn't, try `env = gym.make(\"MountainCar-v0\").env` or otherwise get rid of TimeLimit wrapper.\n",
        "* If you use old _swig_ lib for LunarLander-v2, you may get an error. See this [issue](https://github.com/openai/gym/issues/100) for solution.\n",
        "* If it won't train it's a good idea to plot reward distribution and record sessions: they may give you some clue.\n",
        "* 20-neuron network is probably not enough, feel free to experiment."
      ]
    },
    {
      "cell_type": "code",
      "execution_count": 20,
      "metadata": {
        "id": "91jD5eFuVTQt"
      },
      "outputs": [],
      "source": [
        "def generate_session(agent, t_max=10000):\n",
        "\n",
        "    states,actions = [],[]\n",
        "    total_reward = 0\n",
        "\n",
        "    s = env.reset()\n",
        "\n",
        "    for t in range(t_max):\n",
        "\n",
        "        probs = agent.predict_proba([s])\n",
        "        probs = np.reshape(probs, -1)\n",
        "\n",
        "        a = np.random.choice(np.arange(n_actions), p=probs)\n",
        "\n",
        "        new_s,r,done,info = env.step(a)\n",
        "\n",
        "        #record sessions like you did before\n",
        "\n",
        "        states.append(s)\n",
        "        actions.append(a)\n",
        "        total_reward += r\n",
        "\n",
        "        s = new_s\n",
        "        if done:\n",
        "           break\n",
        "    return states,actions,total_reward\n"
      ]
    },
    {
      "cell_type": "code",
      "execution_count": 21,
      "metadata": {
        "colab": {
          "base_uri": "https://localhost:8080/"
        },
        "id": "iUhLm5IAVTQu",
        "outputId": "732bf585-c74a-4e56-a1c5-fe1888a0f115"
      },
      "outputs": [
        {
          "output_type": "stream",
          "name": "stderr",
          "text": [
            "/usr/local/lib/python3.10/dist-packages/sklearn/neural_network/_multilayer_perceptron.py:686: ConvergenceWarning: Stochastic Optimizer: Maximum iterations (1) reached and the optimization hasn't converged yet.\n",
            "  warnings.warn(\n"
          ]
        }
      ],
      "source": [
        "#create agent\n",
        "from sklearn.neural_network import MLPClassifier\n",
        "agent = MLPClassifier(hidden_layer_sizes=(128, 128, 32),\n",
        "                      activation='tanh',\n",
        "                      warm_start=True, #keep progress between .fit(...) calls\n",
        "                      max_iter=1 #make only 1 iteration on each .fit(...)\n",
        "                     )\n",
        "agent.fit([env.reset()]*n_actions,range(n_actions));"
      ]
    },
    {
      "cell_type": "code",
      "execution_count": 22,
      "metadata": {
        "colab": {
          "base_uri": "https://localhost:8080/"
        },
        "id": "lY8QlwoCVTQu",
        "outputId": "0d63965c-c031-4557-d15d-b9602c8fc214"
      },
      "outputs": [
        {
          "output_type": "stream",
          "name": "stderr",
          "text": [
            "/usr/local/lib/python3.10/dist-packages/ipykernel/ipkernel.py:283: DeprecationWarning: `should_run_async` will not call `transform_cell` automatically in the future. Please pass the result to `transformed_cell` argument and any exception that happen during thetransform in `preprocessing_exc_tuple` in IPython 7.17 and above.\n",
            "  and should_run_async(code)\n"
          ]
        }
      ],
      "source": [
        "from IPython.display import clear_output\n",
        "\n",
        "def show_progress(rewards_batch,log, reward_range=[-5000,+5000]):\n",
        "    \"\"\"\n",
        "    A convenience function that displays training progress.\n",
        "    No cool math here, just charts.\n",
        "    \"\"\"\n",
        "\n",
        "    mean_reward = np.mean(rewards_batch)\n",
        "    threshold = np.percentile(rewards_batch,percentile)\n",
        "    log.append([mean_reward,threshold])\n",
        "\n",
        "    clear_output(True)\n",
        "    print(\"mean reward = %.3f, threshold=%.3f\"%(mean_reward,threshold))\n",
        "    plt.figure(figsize=[8,4])\n",
        "    plt.subplot(1,2,1)\n",
        "    plt.plot(list(zip(*log))[0],label='Mean rewards')\n",
        "    plt.plot(list(zip(*log))[1],label='Reward thresholds')\n",
        "    plt.legend()\n",
        "    plt.grid()\n",
        "\n",
        "    plt.subplot(1,2,2)\n",
        "    #print(rewards_batch)\n",
        "    reward_range=[-1010,+10]\n",
        "    plt.hist(rewards_batch,range=reward_range);\n",
        "    plt.vlines([np.percentile(rewards_batch,percentile)],[0],[100],label=\"percentile\",color='red')\n",
        "    plt.legend()\n",
        "    plt.grid()\n",
        "\n",
        "    plt.show()\n"
      ]
    },
    {
      "cell_type": "code",
      "execution_count": 23,
      "metadata": {
        "id": "I-JkLRulaDGc"
      },
      "outputs": [],
      "source": [
        "def select_elites(states_batch,actions_batch,rewards_batch,percentile=50):\n",
        "    reward_threshold = np.percentile(rewards_batch, percentile)\n",
        "\n",
        "    elite_states = []\n",
        "    elite_actions = []\n",
        "\n",
        "    n_session = len(states_batch)\n",
        "\n",
        "    ind = np.arange(n_session)\n",
        "\n",
        "    ind = ind[rewards_batch[ind] >= reward_threshold]\n",
        "\n",
        "\n",
        "    elite_states = [states_batch[i] for i in ind]\n",
        "    elite_actions = [actions_batch[i] for i in ind]\n",
        "\n",
        "    if(len(np.array(states_batch[0]).shape) == 1):\n",
        "        elite_states = np.hstack(elite_states)\n",
        "    else:\n",
        "        elite_states = np.vstack(elite_states)\n",
        "    elite_actions = np.hstack(elite_actions)\n",
        "\n",
        "    return elite_states,elite_actions"
      ]
    },
    {
      "cell_type": "code",
      "execution_count": null,
      "metadata": {
        "colab": {
          "base_uri": "https://localhost:8080/",
          "height": 405
        },
        "id": "blxBxNA5VTQv",
        "outputId": "c4b1e12f-71a9-4985-a3be-12a6f37a9584"
      },
      "outputs": [
        {
          "output_type": "stream",
          "name": "stdout",
          "text": [
            "mean reward = -78.178, threshold=-19.731\n"
          ]
        },
        {
          "output_type": "display_data",
          "data": {
            "text/plain": [
              "<Figure size 800x400 with 2 Axes>"
            ],
            "image/png": "[encoded data removed]"
          },
          "metadata": {}
        },
        {
          "output_type": "stream",
          "name": "stdout",
          "text": [
            "Time: 3042.891086101532\n"
          ]
        }
      ],
      "source": [
        "import time\n",
        "n_sessions = 100\n",
        "percentile = 30\n",
        "log = []\n",
        "startTime = time.time()\n",
        "\n",
        "for i in range(10000):\n",
        "    #generate new sessions\n",
        "    sessions = [generate_session(agent) for _ in range(n_sessions)]\n",
        "\n",
        "    states_batch,actions_batch,rewards_batch = map(list,zip(*sessions))\n",
        "\n",
        "    rewards_batch = np.array(rewards_batch)\n",
        "\n",
        "    elite_states, elite_actions = select_elites(states_batch,actions_batch,rewards_batch,percentile)\n",
        "\n",
        "    agent.fit(elite_states, elite_actions)\n",
        "\n",
        "\n",
        "    show_progress(rewards_batch,log,reward_range=[0,np.max(rewards_batch)])\n",
        "\n",
        "    print(\"Time:\", time.time() - startTime)\n",
        "\n",
        "    if (rewards_batch.mean() > 50):\n",
        "        print(\"Win!\")\n",
        "        break\n",
        "\n",
        "print(\"Time:\", time.time() - startTime)\n",
        "    #if np.mean(rewards_batch)> 190:\n",
        "     #   print(\"You Win! You may stop training now via KeyboardInterrupt.\")"
      ]
    },
    {
      "cell_type": "markdown",
      "source": [],
      "metadata": {
        "id": "hYJPAUWD33BQ"
      }
    },
    {
      "cell_type": "markdown",
      "metadata": {
        "id": "ySzFAX6iea6G"
      },
      "source": [
        "# **Многопоточность**"
      ]
    },
    {
      "cell_type": "code",
      "execution_count": null,
      "metadata": {
        "id": "M7GF0cdNeO-5"
      },
      "outputs": [],
      "source": [
        "from joblib import Parallel, delayed\n"
      ]
    },
    {
      "cell_type": "code",
      "execution_count": null,
      "metadata": {
        "id": "gN2-1i37eMKZ"
      },
      "outputs": [],
      "source": [
        "import time\n",
        "n_sessions = 100\n",
        "percentile = 30\n",
        "log = []\n",
        "startTime = time.time()\n",
        "\n",
        "agent = MLPClassifier(hidden_layer_sizes=(128, 128, 32),\n",
        "                      activation='tanh',\n",
        "                      warm_start=True, #keep progress between .fit(...) calls\n",
        "                      max_iter=1 #make only 1 iteration on each .fit(...)\n",
        "                     )\n",
        "\n",
        "for i in range(10000):\n",
        "    #generate new sessions\n",
        "    sessions = Parallel(n_jobs=-1)(delayed(generate_session)(agent) for _ in range(n_sessions))\n",
        "\n",
        "    states_batch,actions_batch,rewards_batch = map(list,zip(*sessions))\n",
        "\n",
        "    rewards_batch = np.array(rewards_batch)\n",
        "\n",
        "    elite_states, elite_actions = select_elites(states_batch,actions_batch,rewards_batch,percentile)\n",
        "\n",
        "    agent.fit(elite_states, elite_actions)\n",
        "\n",
        "\n",
        "    show_progress(rewards_batch,log,reward_range=[0,np.max(rewards_batch)])\n",
        "\n",
        "    print(\"Time:\", time.time() - startTime)\n",
        "\n",
        "    if (rewards_batch.mean() > 50):\n",
        "        print(\"Win!\")\n",
        "        break\n",
        "\n",
        "print(\"Time:\", time.time() - startTime)\n",
        "    #if np.mean(rewards_batch)> 190:\n",
        "     #   print(\"You Win! You may stop training now via KeyboardInterrupt.\")"
      ]
    },
    {
      "cell_type": "markdown",
      "metadata": {
        "id": "cQYtt9kqejmR"
      },
      "source": [
        "# Переиспользование последних 3-5 операций"
      ]
    },
    {
      "cell_type": "code",
      "execution_count": null,
      "metadata": {
        "id": "m821445weZv-"
      },
      "outputs": [],
      "source": [
        "import time\n",
        "n_sessions = 100\n",
        "percentile = 30\n",
        "log = []\n",
        "startTime = time.time()\n",
        "\n",
        "st = []\n",
        "ac = []\n",
        "rw = []\n",
        "\n",
        "agent = MLPClassifier(hidden_layer_sizes=(128, 128, 32),\n",
        "                      activation='tanh',\n",
        "                      warm_start=True, #keep progress between .fit(...) calls\n",
        "                      max_iter=1 #make only 1 iteration on each .fit(...)\n",
        "                     )\n",
        "\n",
        "for i in range(10000):\n",
        "    #generate new sessions\n",
        "    sessions = Parallel(n_jobs=-1)(delayed(generate_session)(agent) for _ in range(n_sessions))\n",
        "\n",
        "    states_batch,actions_batch,rewards_batch = map(list,zip(*sessions))\n",
        "\n",
        "    st.append(states_batch)\n",
        "    ac.append(actions_batch)\n",
        "    rw.append(rewards_batch)\n",
        "\n",
        "\n",
        "    rewards_batch = np.array(rewards_batch)\n",
        "\n",
        "    v1 = []\n",
        "    v2 = []\n",
        "    v3 = []\n",
        "\n",
        "    for i in range(len(st)):\n",
        "      for v in st[i]:\n",
        "          v1.append(v)\n",
        "      for v in ac[i]:\n",
        "          v2.append(v)\n",
        "      for v in rw[i]:\n",
        "          v3.append(v)\n",
        "\n",
        "\n",
        "    elite_states, elite_actions = select_elites(v1,v2,np.array(v3),percentile)\n",
        "\n",
        "    agent.fit(elite_states, elite_actions)\n",
        "\n",
        "\n",
        "    show_progress(rewards_batch,log,reward_range=[0,np.max(rewards_batch)])\n",
        "\n",
        "    print(\"Time:\", time.time() - startTime)\n",
        "\n",
        "    if (rewards_batch.mean() > 50):\n",
        "        print(\"Win!\")\n",
        "        break\n",
        "\n",
        "    if i >= 3:\n",
        "        del st[0]\n",
        "        del ac[0]\n",
        "        del rw[0]\n",
        "\n",
        "print(\"Time:\", time.time() - startTime)\n",
        "    #if np.mean(rewards_batch)> 190:\n",
        "     #   print(\"You Win! You may stop training now via KeyboardInterrupt.\")"
      ]
    },
    {
      "cell_type": "markdown",
      "metadata": {
        "id": "BIolUZu3gLCw"
      },
      "source": [
        "Делал вместе с Тимуром Лузговым, наставлял Антон Никифоров."
      ]
    }
  ],
  "metadata": {
    "colab": {
      "provenance": []
    },
    "kernelspec": {
      "display_name": "Python 3",
      "language": "python",
      "name": "python3"
    },
    "language_info": {
      "codemirror_mode": {
        "name": "ipython",
        "version": 3
      },
      "file_extension": ".py",
      "mimetype": "text/x-python",
      "name": "python",
      "nbconvert_exporter": "python",
      "pygments_lexer": "ipython3",
      "version": "3.7.4"
    }
  },
  "nbformat": 4,
  "nbformat_minor": 0
}